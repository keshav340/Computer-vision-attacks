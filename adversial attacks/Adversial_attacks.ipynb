{
  "nbformat": 4,
  "nbformat_minor": 0,
  "metadata": {
    "colab": {
      "provenance": []
    },
    "kernelspec": {
      "name": "python3",
      "display_name": "Python 3"
    },
    "language_info": {
      "name": "python"
    },
    "accelerator": "GPU",
    "gpuClass": "standard"
  },
  "cells": [
    {
      "cell_type": "code",
      "execution_count": null,
      "metadata": {
        "colab": {
          "base_uri": "https://localhost:8080/",
          "height": 36
        },
        "id": "iad_ZTMEWT1B",
        "outputId": "4765455e-023b-4d15-d012-f81074c32b61"
      },
      "outputs": [
        {
          "output_type": "execute_result",
          "data": {
            "text/plain": [
              "'\\n\\n# Generating Perturbations\\n\\n\\n\\n# Defending Against Adversarial Attacks\\n\\n\\n'"
            ],
            "application/vnd.google.colaboratory.intrinsic+json": {
              "type": "string"
            }
          },
          "metadata": {},
          "execution_count": 14
        }
      ],
      "source": [
        "import tensorflow as tf\n",
        "from tensorflow.keras.datasets import mnist, cifar10, cifar100\n",
        "from tensorflow.keras import Sequential\n",
        "from tensorflow.keras.callbacks import LambdaCallback\n",
        "from tensorflow.keras.layers import Conv2D, MaxPooling2D, Dropout, Dense, Flatten, Activation\n",
        "import numpy as np\n",
        "import random\n",
        "import matplotlib.pyplot as plt\n",
        "\n"
      ]
    },
    {
      "cell_type": "code",
      "source": [
        "img_rows, img_cols, channels = 28, 28, 1\n",
        "num_classes = 10\n",
        "(x_train, y_train), (x_test, y_test) = mnist.load_data()\n",
        "labels = ['zero', 'one', 'two', 'three', 'four', 'five', 'six', 'seven', 'eight', 'nine']"
      ],
      "metadata": {
        "id": "VQDc4RhwWcVh"
      },
      "execution_count": null,
      "outputs": []
    },
    {
      "cell_type": "code",
      "source": [
        "img_rows, img_cols, channels = 28, 28, 1\n",
        "num_classes = 10\n",
        "\n",
        "x_train = x_train / 255\n",
        "x_test = x_test / 255\n",
        "\n",
        "x_train = x_train.reshape((-1, img_rows, img_cols, channels))\n",
        "x_test = x_test.reshape((-1, img_rows, img_cols, channels))\n",
        "\n",
        "y_train = tf.keras.utils.to_categorical(y_train, num_classes)\n",
        "y_test = tf.keras.utils.to_categorical(y_test, num_classes)\n",
        "\n",
        "print(\"Data shapes\", x_test.shape, y_test.shape, x_train.shape, y_train.shape)"
      ],
      "metadata": {
        "colab": {
          "base_uri": "https://localhost:8080/"
        },
        "id": "VUiJaYU9WmC7",
        "outputId": "4e97f290-b14d-45ee-d6c7-4af5a711cb14"
      },
      "execution_count": null,
      "outputs": [
        {
          "output_type": "stream",
          "name": "stdout",
          "text": [
            "Data shapes (10000, 28, 28, 1) (10000, 10) (60000, 28, 28, 1) (60000, 10)\n"
          ]
        }
      ]
    },
    {
      "cell_type": "code",
      "source": [
        "def create_model():\n",
        "    model = Sequential()\n",
        "    model.add(Conv2D(32, kernel_size=(3, 3), strides=(3, 3), padding='same', activation='relu',\n",
        "                     input_shape=(img_rows, img_cols, channels)))\n",
        "    model.add(Conv2D(64, kernel_size=(3, 3), strides=(3, 3), padding='same', activation='relu'))\n",
        "    model.add(Conv2D(64, kernel_size=(3, 3), strides=(3, 3), padding='same', activation='relu'))\n",
        "    model.add(MaxPooling2D(pool_size=(2, 2)))\n",
        "    model.add(Dropout(0.2))\n",
        "    model.add(Flatten())\n",
        "    model.add(Dense(32))\n",
        "    model.add(Dropout(0.2))\n",
        "    model.add(Dense(32))\n",
        "    model.add(Dropout(0.2))\n",
        "    model.add(Dense(num_classes, activation='softmax'))\n",
        "\n",
        "    model.compile(optimizer='adam', loss='mse', metrics=['accuracy'])\n",
        "\n",
        "    return model\n",
        "\n",
        "model = create_model()\n",
        "model.summary()"
      ],
      "metadata": {
        "colab": {
          "base_uri": "https://localhost:8080/"
        },
        "id": "1tEA1uPWWrCl",
        "outputId": "540867e7-b559-44b6-c3f5-d0812165323e"
      },
      "execution_count": null,
      "outputs": [
        {
          "output_type": "stream",
          "name": "stdout",
          "text": [
            "Model: \"sequential_1\"\n",
            "_________________________________________________________________\n",
            " Layer (type)                Output Shape              Param #   \n",
            "=================================================================\n",
            " conv2d_3 (Conv2D)           (None, 10, 10, 32)        320       \n",
            "                                                                 \n",
            " conv2d_4 (Conv2D)           (None, 4, 4, 64)          18496     \n",
            "                                                                 \n",
            " conv2d_5 (Conv2D)           (None, 2, 2, 64)          36928     \n",
            "                                                                 \n",
            " max_pooling2d_1 (MaxPooling  (None, 1, 1, 64)         0         \n",
            " 2D)                                                             \n",
            "                                                                 \n",
            " dropout_3 (Dropout)         (None, 1, 1, 64)          0         \n",
            "                                                                 \n",
            " flatten_1 (Flatten)         (None, 64)                0         \n",
            "                                                                 \n",
            " dense_3 (Dense)             (None, 32)                2080      \n",
            "                                                                 \n",
            " dropout_4 (Dropout)         (None, 32)                0         \n",
            "                                                                 \n",
            " dense_4 (Dense)             (None, 32)                1056      \n",
            "                                                                 \n",
            " dropout_5 (Dropout)         (None, 32)                0         \n",
            "                                                                 \n",
            " dense_5 (Dense)             (None, 10)                330       \n",
            "                                                                 \n",
            "=================================================================\n",
            "Total params: 59,210\n",
            "Trainable params: 59,210\n",
            "Non-trainable params: 0\n",
            "_________________________________________________________________\n"
          ]
        }
      ]
    },
    {
      "cell_type": "code",
      "source": [
        "model.fit(x_train, y_train,\n",
        "          batch_size=32,\n",
        "          epochs=10,\n",
        "          validation_data=(x_test, y_test))\n",
        "\n",
        "\n",
        "print(\"Base accuracy  regular images:\", model.evaluate(x=x_test, y=y_test, verbose=0))"
      ],
      "metadata": {
        "colab": {
          "base_uri": "https://localhost:8080/"
        },
        "id": "w_c75oyOWyEn",
        "outputId": "1fb1af7d-0618-4cc7-d7e3-0c69da8e09a3"
      },
      "execution_count": null,
      "outputs": [
        {
          "output_type": "stream",
          "name": "stdout",
          "text": [
            "Epoch 1/10\n",
            "1875/1875 [==============================] - 7s 4ms/step - loss: 0.0063 - accuracy: 0.9595 - val_loss: 0.0040 - val_accuracy: 0.9733\n",
            "Epoch 2/10\n",
            "1875/1875 [==============================] - 7s 4ms/step - loss: 0.0056 - accuracy: 0.9642 - val_loss: 0.0037 - val_accuracy: 0.9747\n",
            "Epoch 3/10\n",
            "1875/1875 [==============================] - 12s 7ms/step - loss: 0.0052 - accuracy: 0.9671 - val_loss: 0.0034 - val_accuracy: 0.9779\n",
            "Epoch 4/10\n",
            "1875/1875 [==============================] - 7s 4ms/step - loss: 0.0048 - accuracy: 0.9692 - val_loss: 0.0036 - val_accuracy: 0.9778\n",
            "Epoch 5/10\n",
            "1875/1875 [==============================] - 7s 4ms/step - loss: 0.0046 - accuracy: 0.9703 - val_loss: 0.0033 - val_accuracy: 0.9800\n",
            "Epoch 6/10\n",
            "1875/1875 [==============================] - 7s 4ms/step - loss: 0.0043 - accuracy: 0.9730 - val_loss: 0.0033 - val_accuracy: 0.9799\n",
            "Epoch 7/10\n",
            "1875/1875 [==============================] - 7s 4ms/step - loss: 0.0042 - accuracy: 0.9737 - val_loss: 0.0034 - val_accuracy: 0.9786\n",
            "Epoch 8/10\n",
            "1875/1875 [==============================] - 7s 4ms/step - loss: 0.0040 - accuracy: 0.9745 - val_loss: 0.0029 - val_accuracy: 0.9823\n",
            "Epoch 9/10\n",
            "1875/1875 [==============================] - 7s 4ms/step - loss: 0.0038 - accuracy: 0.9765 - val_loss: 0.0029 - val_accuracy: 0.9813\n",
            "Epoch 10/10\n",
            "1875/1875 [==============================] - 7s 4ms/step - loss: 0.0037 - accuracy: 0.9768 - val_loss: 0.0031 - val_accuracy: 0.9815\n",
            "Base accuracy  regular images: [0.003103082301095128, 0.9815000295639038]\n"
          ]
        }
      ]
    },
    {
      "cell_type": "code",
      "source": [
        "def adversarial_pattern(image, label):\n",
        "    image = tf.cast(image, tf.float32)\n",
        "    with tf.GradientTape() as tape:\n",
        "        tape.watch(image)\n",
        "        prediction = model(image)\n",
        "        loss = tf.keras.losses.MSE(label, prediction)\n",
        "    gradient = tape.gradient(loss, image)\n",
        "    signed_grad = tf.sign(gradient)\n",
        "    return signed_grad\n"
      ],
      "metadata": {
        "id": "WevAX-EaX1_6"
      },
      "execution_count": null,
      "outputs": []
    },
    {
      "cell_type": "code",
      "source": [
        "image = x_train[0]\n",
        "image_label = y_train[0]\n",
        "perturbations = adversarial_pattern(image.reshape((1, img_rows, img_cols, channels)), image_label).numpy()\n",
        "\n",
        "adversarial = image + perturbations * 0.1\n",
        "if channels == 1:\n",
        "    plt.imshow(adversarial.reshape((img_rows, img_cols)))\n",
        "    plt.imshow(image.reshape((img_rows, img_cols)))\n",
        "else:\n",
        "    plt.imshow(adversarial.reshape((img_rows, img_cols, channels)))\n",
        "    plt.imshow(image.reshape((img_rows, img_cols, channels)))\n",
        "plt.show()\n",
        "print(\"Original Image Prediction: \", labels[model.predict(image.reshape((1, img_rows, img_cols, channels))).argmax()])\n",
        "print(\"Adversarial Image Prediction: \", labels[model.predict(adversarial).argmax()])\n"
      ],
      "metadata": {
        "colab": {
          "base_uri": "https://localhost:8080/",
          "height": 302
        },
        "id": "8zu8GaHeYDPi",
        "outputId": "3e3f05eb-90c8-40d4-aa18-142da45cb058"
      },
      "execution_count": null,
      "outputs": [
        {
          "output_type": "display_data",
          "data": {
            "text/plain": [
              "<Figure size 432x288 with 1 Axes>"
            ],
            "image/png": "[encoded data removed]"
          },
          "metadata": {
            "needs_background": "light"
          }
        },
        {
          "output_type": "stream",
          "name": "stdout",
          "text": [
            "Original Image Prediction:  five\n",
            "Adversarial Image Prediction:  three\n"
          ]
        }
      ]
    },
    {
      "cell_type": "code",
      "source": [
        "def generate_adversarials(batch_size):\n",
        "    while True:\n",
        "        x = []\n",
        "        y = []\n",
        "        for batch in range(batch_size):\n",
        "            N = random.randint(0, 100)\n",
        "\n",
        "            label = y_train[N]\n",
        "            image = x_train[N]\n",
        "\n",
        "            perturbations = adversarial_pattern(image.reshape((1, img_rows, img_cols, channels)), label).numpy()\n",
        "\n",
        "            epsilon = 0.05\n",
        "            adversarial = image + perturbations * epsilon\n",
        "\n",
        "            x.append(adversarial)\n",
        "            y.append(y_train[N])\n",
        "\n",
        "        x = np.asarray(x).reshape((batch_size, img_rows, img_cols, channels))\n",
        "        y = np.asarray(y)\n",
        "\n",
        "        yield x, y\n",
        "\n",
        "\n",
        "x_adversarial_test, y_adversarial_test = next(generate_adversarials(10000))\n",
        "print(\"Base accuracy adversarial images:\", model.evaluate(x=x_adversarial_test, y=y_adversarial_test, verbose=0))"
      ],
      "metadata": {
        "colab": {
          "base_uri": "https://localhost:8080/"
        },
        "id": "qVACbqviYodf",
        "outputId": "6c225767-7a62-4fb0-b319-cf2158ee8219"
      },
      "execution_count": null,
      "outputs": [
        {
          "output_type": "stream",
          "name": "stdout",
          "text": [
            "Base accuracy adversarial images: [0.05965438857674599, 0.6449999809265137]\n"
          ]
        }
      ]
    },
    {
      "cell_type": "code",
      "source": [
        "x_adversarial_train, y_adversarial_train = next(generate_adversarials(20000))\n",
        "model.fit(x_adversarial_train, y_adversarial_train,\n",
        "          batch_size=32,\n",
        "          epochs=10,\n",
        "          validation_data=(x_test, y_test))"
      ],
      "metadata": {
        "colab": {
          "base_uri": "https://localhost:8080/"
        },
        "id": "cGvSHpC9Y5xL",
        "outputId": "66f64101-c5a4-4b38-8c4b-72cac3c4f7a3"
      },
      "execution_count": null,
      "outputs": [
        {
          "output_type": "stream",
          "name": "stdout",
          "text": [
            "Epoch 1/10\n",
            "625/625 [==============================] - 3s 4ms/step - loss: 0.0028 - accuracy: 0.9847 - val_loss: 0.0059 - val_accuracy: 0.9654\n",
            "Epoch 2/10\n",
            "625/625 [==============================] - 3s 4ms/step - loss: 1.1496e-04 - accuracy: 0.9993 - val_loss: 0.0063 - val_accuracy: 0.9635\n",
            "Epoch 3/10\n",
            "625/625 [==============================] - 3s 4ms/step - loss: 1.0834e-04 - accuracy: 0.9992 - val_loss: 0.0063 - val_accuracy: 0.9634\n",
            "Epoch 4/10\n",
            "625/625 [==============================] - 3s 4ms/step - loss: 8.3408e-05 - accuracy: 0.9995 - val_loss: 0.0068 - val_accuracy: 0.9605\n",
            "Epoch 5/10\n",
            "625/625 [==============================] - 3s 4ms/step - loss: 1.1894e-04 - accuracy: 0.9992 - val_loss: 0.0069 - val_accuracy: 0.9601\n",
            "Epoch 6/10\n",
            "625/625 [==============================] - 3s 4ms/step - loss: 8.4064e-05 - accuracy: 0.9995 - val_loss: 0.0061 - val_accuracy: 0.9645\n",
            "Epoch 7/10\n",
            "625/625 [==============================] - 3s 4ms/step - loss: 1.0178e-04 - accuracy: 0.9994 - val_loss: 0.0094 - val_accuracy: 0.9467\n",
            "Epoch 8/10\n",
            "625/625 [==============================] - 3s 4ms/step - loss: 1.7631e-04 - accuracy: 0.9990 - val_loss: 0.0095 - val_accuracy: 0.9466\n",
            "Epoch 9/10\n",
            "625/625 [==============================] - 3s 4ms/step - loss: 1.1026e-04 - accuracy: 0.9994 - val_loss: 0.0087 - val_accuracy: 0.9515\n",
            "Epoch 10/10\n",
            "625/625 [==============================] - 3s 4ms/step - loss: 5.1723e-05 - accuracy: 0.9997 - val_loss: 0.0085 - val_accuracy: 0.9524\n"
          ]
        },
        {
          "output_type": "execute_result",
          "data": {
            "text/plain": [
              "<keras.callbacks.History at 0x7f31448b4d10>"
            ]
          },
          "metadata": {},
          "execution_count": 27
        }
      ]
    },
    {
      "cell_type": "code",
      "source": [
        "print(\"Defended accuracy adversarial images:\", model.evaluate(x=x_adversarial_test, y=y_adversarial_test, verbose=0))\n",
        "print(\"Defended accuracy regular images:\", model.evaluate(x=x_test, y=y_test, verbose=0))"
      ],
      "metadata": {
        "colab": {
          "base_uri": "https://localhost:8080/"
        },
        "id": "Q-C8Ef8IYwZs",
        "outputId": "66d0d38b-ac25-48a8-b3e8-16a3601b5afb"
      },
      "execution_count": null,
      "outputs": [
        {
          "output_type": "stream",
          "name": "stdout",
          "text": [
            "Defended accuracy adversarial images: [4.6726613894314106e-18, 1.0]\n",
            "Defended accuracy regular images: [0.008506928570568562, 0.9524000287055969]\n"
          ]
        }
      ]
    }
  ]
}